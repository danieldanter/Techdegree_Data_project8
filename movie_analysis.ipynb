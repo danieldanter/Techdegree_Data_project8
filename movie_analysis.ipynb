{
 "cells": [
  {
   "cell_type": "code",
   "execution_count": 1,
   "id": "126cb9b5",
   "metadata": {},
   "outputs": [],
   "source": [
    "import pandas as pd\n",
    "import seaborn as sns\n",
    "import matplotlib.pyplot as plt"
   ]
  },
  {
   "cell_type": "code",
   "execution_count": 2,
   "id": "89e2db9b",
   "metadata": {},
   "outputs": [],
   "source": [
    "movies = pd.read_csv(\"movies.csv\") "
   ]
  },
  {
   "cell_type": "code",
   "execution_count": 3,
   "id": "18e8ac9a",
   "metadata": {},
   "outputs": [
    {
     "data": {
      "text/html": [
       "<div>\n",
       "<style scoped>\n",
       "    .dataframe tbody tr th:only-of-type {\n",
       "        vertical-align: middle;\n",
       "    }\n",
       "\n",
       "    .dataframe tbody tr th {\n",
       "        vertical-align: top;\n",
       "    }\n",
       "\n",
       "    .dataframe thead th {\n",
       "        text-align: right;\n",
       "    }\n",
       "</style>\n",
       "<table border=\"1\" class=\"dataframe\">\n",
       "  <thead>\n",
       "    <tr style=\"text-align: right;\">\n",
       "      <th></th>\n",
       "      <th>Movie Title</th>\n",
       "      <th>Runtime</th>\n",
       "      <th>Genre</th>\n",
       "      <th>Award Wins</th>\n",
       "      <th>Award Nominations</th>\n",
       "      <th>Box Office</th>\n",
       "    </tr>\n",
       "  </thead>\n",
       "  <tbody>\n",
       "    <tr>\n",
       "      <th>0</th>\n",
       "      <td>Parasite</td>\n",
       "      <td>132</td>\n",
       "      <td>Comedy, Drama, Horror</td>\n",
       "      <td>308</td>\n",
       "      <td>271</td>\n",
       "      <td>53369749</td>\n",
       "    </tr>\n",
       "    <tr>\n",
       "      <th>1</th>\n",
       "      <td>Green Book</td>\n",
       "      <td>130</td>\n",
       "      <td>Biography, Comedy, Drama</td>\n",
       "      <td>59</td>\n",
       "      <td>124</td>\n",
       "      <td>85080171</td>\n",
       "    </tr>\n",
       "    <tr>\n",
       "      <th>2</th>\n",
       "      <td>The Shape of Water</td>\n",
       "      <td>123</td>\n",
       "      <td>Drama, Fantasy, Romance</td>\n",
       "      <td>138</td>\n",
       "      <td>358</td>\n",
       "      <td>63859435</td>\n",
       "    </tr>\n",
       "    <tr>\n",
       "      <th>3</th>\n",
       "      <td>Moonlight</td>\n",
       "      <td>111</td>\n",
       "      <td>Drama</td>\n",
       "      <td>228</td>\n",
       "      <td>296</td>\n",
       "      <td>27854932</td>\n",
       "    </tr>\n",
       "    <tr>\n",
       "      <th>4</th>\n",
       "      <td>Spotlight</td>\n",
       "      <td>129</td>\n",
       "      <td>Biography, Crime, Drama</td>\n",
       "      <td>124</td>\n",
       "      <td>143</td>\n",
       "      <td>45055776</td>\n",
       "    </tr>\n",
       "    <tr>\n",
       "      <th>5</th>\n",
       "      <td>Birdman or (The Unexpected Virtue of Ignorance)</td>\n",
       "      <td>119</td>\n",
       "      <td>Comedy, Drama</td>\n",
       "      <td>193</td>\n",
       "      <td>292</td>\n",
       "      <td>42340598</td>\n",
       "    </tr>\n",
       "    <tr>\n",
       "      <th>6</th>\n",
       "      <td>12 Years a Slave</td>\n",
       "      <td>134</td>\n",
       "      <td>Biography, Drama, History</td>\n",
       "      <td>242</td>\n",
       "      <td>337</td>\n",
       "      <td>56671993</td>\n",
       "    </tr>\n",
       "    <tr>\n",
       "      <th>7</th>\n",
       "      <td>Argo</td>\n",
       "      <td>120</td>\n",
       "      <td>Biography, Drama, Thriller</td>\n",
       "      <td>94</td>\n",
       "      <td>156</td>\n",
       "      <td>136025503</td>\n",
       "    </tr>\n",
       "    <tr>\n",
       "      <th>8</th>\n",
       "      <td>The Artist</td>\n",
       "      <td>100</td>\n",
       "      <td>Comedy, Drama, Romance</td>\n",
       "      <td>162</td>\n",
       "      <td>204</td>\n",
       "      <td>44671682</td>\n",
       "    </tr>\n",
       "    <tr>\n",
       "      <th>9</th>\n",
       "      <td>The King's Speech</td>\n",
       "      <td>118</td>\n",
       "      <td>Biography, Drama, History</td>\n",
       "      <td>108</td>\n",
       "      <td>206</td>\n",
       "      <td>138797449</td>\n",
       "    </tr>\n",
       "  </tbody>\n",
       "</table>\n",
       "</div>"
      ],
      "text/plain": [
       "                                       Movie Title  Runtime  \\\n",
       "0                                         Parasite      132   \n",
       "1                                       Green Book      130   \n",
       "2                               The Shape of Water      123   \n",
       "3                                        Moonlight      111   \n",
       "4                                        Spotlight      129   \n",
       "5  Birdman or (The Unexpected Virtue of Ignorance)      119   \n",
       "6                                 12 Years a Slave      134   \n",
       "7                                             Argo      120   \n",
       "8                                       The Artist      100   \n",
       "9                                The King's Speech      118   \n",
       "\n",
       "                        Genre  Award Wins  Award Nominations  Box Office  \n",
       "0       Comedy, Drama, Horror         308                271    53369749  \n",
       "1    Biography, Comedy, Drama          59                124    85080171  \n",
       "2     Drama, Fantasy, Romance         138                358    63859435  \n",
       "3                       Drama         228                296    27854932  \n",
       "4     Biography, Crime, Drama         124                143    45055776  \n",
       "5               Comedy, Drama         193                292    42340598  \n",
       "6   Biography, Drama, History         242                337    56671993  \n",
       "7  Biography, Drama, Thriller          94                156   136025503  \n",
       "8      Comedy, Drama, Romance         162                204    44671682  \n",
       "9   Biography, Drama, History         108                206   138797449  "
      ]
     },
     "execution_count": 3,
     "metadata": {},
     "output_type": "execute_result"
    }
   ],
   "source": [
    "\n",
    "movies.head(30)\n"
   ]
  },
  {
   "cell_type": "markdown",
   "id": "536f030f",
   "metadata": {},
   "source": [
    "# (Graph) What was the runtime for each movie?"
   ]
  },
  {
   "cell_type": "code",
   "execution_count": 4,
   "id": "cdd92586",
   "metadata": {},
   "outputs": [],
   "source": [
    "# Birdman is to long for line graph\n",
    "movies['Movie Title'] = movies['Movie Title'].replace(['Birdman or (The Unexpected Virtue of Ignorance)'],'Birdman')"
   ]
  },
  {
   "cell_type": "code",
   "execution_count": 5,
   "id": "e749bc67",
   "metadata": {},
   "outputs": [
    {
     "data": {
      "text/plain": [
       "Text(0.5, 1.0, 'Runtimes per Movie')"
      ]
     },
     "execution_count": 5,
     "metadata": {},
     "output_type": "execute_result"
    },
    {
     "data": {
      "image/png": "[encoded data removed]",
      "text/plain": [
       "<Figure size 432x288 with 1 Axes>"
      ]
     },
     "metadata": {
      "needs_background": "light"
     },
     "output_type": "display_data"
    }
   ],
   "source": [
    "sns.lineplot(data=movies, x= 'Movie Title', y='Runtime')\n",
    "#labels for x & y axis\n",
    "plt.xlabel('Movie Title')\n",
    "plt.xticks(rotation = 90)\n",
    "plt.ylabel('Runtime')\n",
    " \n",
    "# title of plot\n",
    "plt.title('Runtimes per Movie')\n"
   ]
  },
  {
   "cell_type": "markdown",
   "id": "da3c80da",
   "metadata": {},
   "source": [
    "# What movie had the longest runtime?"
   ]
  },
  {
   "cell_type": "code",
   "execution_count": 6,
   "id": "37c913d9",
   "metadata": {},
   "outputs": [
    {
     "data": {
      "text/html": [
       "<div>\n",
       "<style scoped>\n",
       "    .dataframe tbody tr th:only-of-type {\n",
       "        vertical-align: middle;\n",
       "    }\n",
       "\n",
       "    .dataframe tbody tr th {\n",
       "        vertical-align: top;\n",
       "    }\n",
       "\n",
       "    .dataframe thead th {\n",
       "        text-align: right;\n",
       "    }\n",
       "</style>\n",
       "<table border=\"1\" class=\"dataframe\">\n",
       "  <thead>\n",
       "    <tr style=\"text-align: right;\">\n",
       "      <th></th>\n",
       "      <th>Movie Title</th>\n",
       "      <th>Runtime</th>\n",
       "      <th>Genre</th>\n",
       "      <th>Award Wins</th>\n",
       "      <th>Award Nominations</th>\n",
       "      <th>Box Office</th>\n",
       "    </tr>\n",
       "  </thead>\n",
       "  <tbody>\n",
       "    <tr>\n",
       "      <th>6</th>\n",
       "      <td>12 Years a Slave</td>\n",
       "      <td>134</td>\n",
       "      <td>Biography, Drama, History</td>\n",
       "      <td>242</td>\n",
       "      <td>337</td>\n",
       "      <td>56671993</td>\n",
       "    </tr>\n",
       "    <tr>\n",
       "      <th>0</th>\n",
       "      <td>Parasite</td>\n",
       "      <td>132</td>\n",
       "      <td>Comedy, Drama, Horror</td>\n",
       "      <td>308</td>\n",
       "      <td>271</td>\n",
       "      <td>53369749</td>\n",
       "    </tr>\n",
       "    <tr>\n",
       "      <th>1</th>\n",
       "      <td>Green Book</td>\n",
       "      <td>130</td>\n",
       "      <td>Biography, Comedy, Drama</td>\n",
       "      <td>59</td>\n",
       "      <td>124</td>\n",
       "      <td>85080171</td>\n",
       "    </tr>\n",
       "    <tr>\n",
       "      <th>4</th>\n",
       "      <td>Spotlight</td>\n",
       "      <td>129</td>\n",
       "      <td>Biography, Crime, Drama</td>\n",
       "      <td>124</td>\n",
       "      <td>143</td>\n",
       "      <td>45055776</td>\n",
       "    </tr>\n",
       "    <tr>\n",
       "      <th>2</th>\n",
       "      <td>The Shape of Water</td>\n",
       "      <td>123</td>\n",
       "      <td>Drama, Fantasy, Romance</td>\n",
       "      <td>138</td>\n",
       "      <td>358</td>\n",
       "      <td>63859435</td>\n",
       "    </tr>\n",
       "  </tbody>\n",
       "</table>\n",
       "</div>"
      ],
      "text/plain": [
       "          Movie Title  Runtime                      Genre  Award Wins  \\\n",
       "6    12 Years a Slave      134  Biography, Drama, History         242   \n",
       "0            Parasite      132      Comedy, Drama, Horror         308   \n",
       "1          Green Book      130   Biography, Comedy, Drama          59   \n",
       "4           Spotlight      129    Biography, Crime, Drama         124   \n",
       "2  The Shape of Water      123    Drama, Fantasy, Romance         138   \n",
       "\n",
       "   Award Nominations  Box Office  \n",
       "6                337    56671993  \n",
       "0                271    53369749  \n",
       "1                124    85080171  \n",
       "4                143    45055776  \n",
       "2                358    63859435  "
      ]
     },
     "execution_count": 6,
     "metadata": {},
     "output_type": "execute_result"
    }
   ],
   "source": [
    "longest = movies.sort_values(by=['Runtime'], ascending=False)\n",
    "\n",
    "longest.head()"
   ]
  },
  {
   "cell_type": "markdown",
   "id": "16a118ad",
   "metadata": {},
   "source": [
    "### The movie with the longest runtime is 12 years a slave with 134 min"
   ]
  },
  {
   "cell_type": "markdown",
   "id": "dfa849c1",
   "metadata": {},
   "source": [
    "# Is there any relationship between the length of the movie (runtime) and the number of awards a movie won?"
   ]
  },
  {
   "cell_type": "code",
   "execution_count": 7,
   "id": "b0bcbf82",
   "metadata": {},
   "outputs": [
    {
     "data": {
      "text/plain": [
       "<AxesSubplot:xlabel='Runtime', ylabel='Award Wins'>"
      ]
     },
     "execution_count": 7,
     "metadata": {},
     "output_type": "execute_result"
    },
    {
     "data": {
      "image/png": "[encoded data removed]",
      "text/plain": [
       "<Figure size 432x288 with 1 Axes>"
      ]
     },
     "metadata": {
      "needs_background": "light"
     },
     "output_type": "display_data"
    }
   ],
   "source": [
    "# calclulate scatterplot\n",
    "sns.scatterplot(data=movies, x=\"Runtime\", y= \"Award Wins\")"
   ]
  },
  {
   "cell_type": "code",
   "execution_count": 8,
   "id": "ab7ec0b9",
   "metadata": {},
   "outputs": [
    {
     "data": {
      "text/html": [
       "<div>\n",
       "<style scoped>\n",
       "    .dataframe tbody tr th:only-of-type {\n",
       "        vertical-align: middle;\n",
       "    }\n",
       "\n",
       "    .dataframe tbody tr th {\n",
       "        vertical-align: top;\n",
       "    }\n",
       "\n",
       "    .dataframe thead th {\n",
       "        text-align: right;\n",
       "    }\n",
       "</style>\n",
       "<table border=\"1\" class=\"dataframe\">\n",
       "  <thead>\n",
       "    <tr style=\"text-align: right;\">\n",
       "      <th></th>\n",
       "      <th>Runtime</th>\n",
       "      <th>Award Wins</th>\n",
       "      <th>Award Nominations</th>\n",
       "      <th>Box Office</th>\n",
       "    </tr>\n",
       "  </thead>\n",
       "  <tbody>\n",
       "    <tr>\n",
       "      <th>Runtime</th>\n",
       "      <td>1.000000</td>\n",
       "      <td>0.117710</td>\n",
       "      <td>0.038617</td>\n",
       "      <td>0.083801</td>\n",
       "    </tr>\n",
       "    <tr>\n",
       "      <th>Award Wins</th>\n",
       "      <td>0.117710</td>\n",
       "      <td>1.000000</td>\n",
       "      <td>0.659688</td>\n",
       "      <td>-0.586839</td>\n",
       "    </tr>\n",
       "    <tr>\n",
       "      <th>Award Nominations</th>\n",
       "      <td>0.038617</td>\n",
       "      <td>0.659688</td>\n",
       "      <td>1.000000</td>\n",
       "      <td>-0.433469</td>\n",
       "    </tr>\n",
       "    <tr>\n",
       "      <th>Box Office</th>\n",
       "      <td>0.083801</td>\n",
       "      <td>-0.586839</td>\n",
       "      <td>-0.433469</td>\n",
       "      <td>1.000000</td>\n",
       "    </tr>\n",
       "  </tbody>\n",
       "</table>\n",
       "</div>"
      ],
      "text/plain": [
       "                    Runtime  Award Wins  Award Nominations  Box Office\n",
       "Runtime            1.000000    0.117710           0.038617    0.083801\n",
       "Award Wins         0.117710    1.000000           0.659688   -0.586839\n",
       "Award Nominations  0.038617    0.659688           1.000000   -0.433469\n",
       "Box Office         0.083801   -0.586839          -0.433469    1.000000"
      ]
     },
     "execution_count": 8,
     "metadata": {},
     "output_type": "execute_result"
    }
   ],
   "source": [
    "# calclulate  correlation coefficient\n",
    "movies.corr()"
   ]
  },
  {
   "cell_type": "markdown",
   "id": "c7804cb4",
   "metadata": {},
   "source": [
    "### NO!!! the graphic shows that there is no corrilation bewtween runtime and wins\n",
    "###  the correlation coefficient is only: 0.0.117710"
   ]
  },
  {
   "cell_type": "markdown",
   "id": "938f0734",
   "metadata": {},
   "source": [
    "# (Graph) How many awards and nominations did each movie receive?"
   ]
  },
  {
   "cell_type": "code",
   "execution_count": 9,
   "id": "ba12ea46",
   "metadata": {},
   "outputs": [
    {
     "data": {
      "text/html": [
       "<div>\n",
       "<style scoped>\n",
       "    .dataframe tbody tr th:only-of-type {\n",
       "        vertical-align: middle;\n",
       "    }\n",
       "\n",
       "    .dataframe tbody tr th {\n",
       "        vertical-align: top;\n",
       "    }\n",
       "\n",
       "    .dataframe thead th {\n",
       "        text-align: right;\n",
       "    }\n",
       "</style>\n",
       "<table border=\"1\" class=\"dataframe\">\n",
       "  <thead>\n",
       "    <tr style=\"text-align: right;\">\n",
       "      <th></th>\n",
       "      <th>Award Wins</th>\n",
       "      <th>Award Nominations</th>\n",
       "    </tr>\n",
       "    <tr>\n",
       "      <th>Movie Title</th>\n",
       "      <th></th>\n",
       "      <th></th>\n",
       "    </tr>\n",
       "  </thead>\n",
       "  <tbody>\n",
       "    <tr>\n",
       "      <th>Parasite</th>\n",
       "      <td>308</td>\n",
       "      <td>271</td>\n",
       "    </tr>\n",
       "    <tr>\n",
       "      <th>Green Book</th>\n",
       "      <td>59</td>\n",
       "      <td>124</td>\n",
       "    </tr>\n",
       "    <tr>\n",
       "      <th>The Shape of Water</th>\n",
       "      <td>138</td>\n",
       "      <td>358</td>\n",
       "    </tr>\n",
       "    <tr>\n",
       "      <th>Moonlight</th>\n",
       "      <td>228</td>\n",
       "      <td>296</td>\n",
       "    </tr>\n",
       "    <tr>\n",
       "      <th>Spotlight</th>\n",
       "      <td>124</td>\n",
       "      <td>143</td>\n",
       "    </tr>\n",
       "    <tr>\n",
       "      <th>Birdman</th>\n",
       "      <td>193</td>\n",
       "      <td>292</td>\n",
       "    </tr>\n",
       "    <tr>\n",
       "      <th>12 Years a Slave</th>\n",
       "      <td>242</td>\n",
       "      <td>337</td>\n",
       "    </tr>\n",
       "    <tr>\n",
       "      <th>Argo</th>\n",
       "      <td>94</td>\n",
       "      <td>156</td>\n",
       "    </tr>\n",
       "    <tr>\n",
       "      <th>The Artist</th>\n",
       "      <td>162</td>\n",
       "      <td>204</td>\n",
       "    </tr>\n",
       "    <tr>\n",
       "      <th>The King's Speech</th>\n",
       "      <td>108</td>\n",
       "      <td>206</td>\n",
       "    </tr>\n",
       "  </tbody>\n",
       "</table>\n",
       "</div>"
      ],
      "text/plain": [
       "                    Award Wins  Award Nominations\n",
       "Movie Title                                      \n",
       "Parasite                   308                271\n",
       "Green Book                  59                124\n",
       "The Shape of Water         138                358\n",
       "Moonlight                  228                296\n",
       "Spotlight                  124                143\n",
       "Birdman                    193                292\n",
       "12 Years a Slave           242                337\n",
       "Argo                        94                156\n",
       "The Artist                 162                204\n",
       "The King's Speech          108                206"
      ]
     },
     "execution_count": 9,
     "metadata": {},
     "output_type": "execute_result"
    }
   ],
   "source": [
    "# format the dataframe -> so we can use it for the stacked barchart\n",
    "awards_nom = movies.drop(['Runtime','Genre','Box Office'], axis=1)\n",
    "awards_nom =awards_nom.set_index('Movie Title')\n",
    "\n",
    "\n",
    "awards_nom.head(15)"
   ]
  },
  {
   "cell_type": "code",
   "execution_count": 11,
   "id": "38da9e3f",
   "metadata": {},
   "outputs": [
    {
     "data": {
      "text/plain": [
       "Text(0.5, 1.0, 'Awards and Nominations')"
      ]
     },
     "execution_count": 11,
     "metadata": {},
     "output_type": "execute_result"
    },
    {
     "data": {
      "image/png": "[encoded data removed]",
      "text/plain": [
       "<Figure size 432x288 with 1 Axes>"
      ]
     },
     "metadata": {
      "needs_background": "light"
     },
     "output_type": "display_data"
    }
   ],
   "source": [
    "# create stacked bar chart for Awards and Nominations by \n",
    "awards_nom.plot(kind='bar', stacked=True)\n",
    " \n",
    "# labels for x & y axis\n",
    "plt.xlabel('Movie Title')\n",
    "plt.ylabel('Nr Nominations/Awards')\n",
    " \n",
    "# title of plot\n",
    "plt.title('Awards and Nominations')"
   ]
  },
  {
   "cell_type": "code",
   "execution_count": 15,
   "id": "b6cb6bec",
   "metadata": {},
   "outputs": [
    {
     "data": {
      "image/png": "[encoded data removed]",
      "text/plain": [
       "<Figure size 432x288 with 1 Axes>"
      ]
     },
     "metadata": {
      "needs_background": "light"
     },
     "output_type": "display_data"
    }
   ],
   "source": [
    "# multiple line plots\n",
    "plt.plot( 'Movie Title', 'Award Wins', data=movies, marker='o', markerfacecolor='blue', markersize=12, color='skyblue', linewidth=4)\n",
    "plt.plot( 'Movie Title', 'Award Nominations', data=movies, marker='', color='olive', linewidth=2)\n",
    "\n",
    "# labels for x & y axis\n",
    "plt.xlabel('Movie Title')\n",
    "plt.ylabel('Nr Nominations/Awards')\n",
    "plt.xticks(rotation = 90)\n",
    "\n",
    "# show legend\n",
    "plt.legend()\n",
    "\n",
    "# show graph\n",
    "plt.show()"
   ]
  },
  {
   "cell_type": "code",
   "execution_count": null,
   "id": "b825d20b",
   "metadata": {},
   "outputs": [],
   "source": []
  }
 ],
 "metadata": {
  "kernelspec": {
   "display_name": "Python 3 (ipykernel)",
   "language": "python",
   "name": "python3"
  },
  "language_info": {
   "codemirror_mode": {
    "name": "ipython",
    "version": 3
   },
   "file_extension": ".py",
   "mimetype": "text/x-python",
   "name": "python",
   "nbconvert_exporter": "python",
   "pygments_lexer": "ipython3",
   "version": "3.9.7"
  }
 },
 "nbformat": 4,
 "nbformat_minor": 5
}
